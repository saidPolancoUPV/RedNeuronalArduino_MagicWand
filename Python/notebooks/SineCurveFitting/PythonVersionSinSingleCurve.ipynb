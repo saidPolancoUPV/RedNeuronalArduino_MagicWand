{
 "cells": [
  {
   "cell_type": "code",
   "execution_count": 1,
   "id": "initial_id",
   "metadata": {
    "collapsed": true,
    "ExecuteTime": {
     "end_time": "2023-09-23T15:20:45.540150506Z",
     "start_time": "2023-09-23T15:20:45.492195372Z"
    }
   },
   "outputs": [],
   "source": [
    "import numpy as np\n",
    "# import matplotlib.pyplot as plt"
   ]
  },
  {
   "cell_type": "code",
   "execution_count": 2,
   "outputs": [],
   "source": [
    "W = [\n",
    "    [\n",
    "        [-0.5358084]\n",
    "    ],  # 1era capa 1 neurona\n",
    "    [\n",
    "        [1.0464344],  \n",
    "        [0.31964287], \n",
    "        [-0.20282179]\n",
    "    ],  # 2da capa 3 neuronas\n",
    "    [\n",
    "        [-0.78796256, 1.5954595, 0.44938034],\n",
    "        [1.4331942, -1.6701915, 1.1279454]\n",
    "    ],  # 3ra capa 2 neuronas\n",
    "    [\n",
    "        [1.3534938, -1.4600034]\n",
    "    ]  # 4ta capa 1 neurona\n",
    "]"
   ],
   "metadata": {
    "collapsed": false,
    "ExecuteTime": {
     "end_time": "2023-09-23T15:26:59.928546283Z",
     "start_time": "2023-09-23T15:26:59.876925890Z"
    }
   },
   "id": "dd755f4b317e2448"
  },
  {
   "cell_type": "code",
   "execution_count": 22,
   "outputs": [],
   "source": [
    "B= [\n",
    "    [\n",
    "        0.4221617\n",
    "    ], # 1ra capa 1 neurona\n",
    "    [\n",
    "        0.44382837, 0.41102475, 0.17832378\n",
    "    ], # 2da capa 3 neuronas\n",
    "    [\n",
    "        0.11961418, -0.1008855\n",
    "    ],  # 3ra capa 2 neuronas\n",
    "    [\n",
    "        0.11395541\n",
    "    ]  # 4ta capa 1 neurona\n",
    "]"
   ],
   "metadata": {
    "collapsed": false,
    "ExecuteTime": {
     "end_time": "2023-09-23T16:12:28.807174572Z",
     "start_time": "2023-09-23T16:12:28.740430559Z"
    }
   },
   "id": "64ec553d839a15c"
  },
  {
   "cell_type": "code",
   "execution_count": 23,
   "outputs": [],
   "source": [
    "def _linear(z):\n",
    "    return z\n",
    "\n",
    "def _relu(z):\n",
    "    return np.max([0, z])\n",
    "\n",
    "def _dot(a, b):\n",
    "    if len(a) != len(b):\n",
    "        raise ValueError\n",
    "    suma = 0\n",
    "\n",
    "    for i in range(len(a)):\n",
    "        suma += a[i] * b[i]\n",
    "\n",
    "    return suma\n",
    "\n",
    "def _z_fun(x, w, b):\n",
    "    return _dot(x, w) + b"
   ],
   "metadata": {
    "collapsed": false,
    "ExecuteTime": {
     "end_time": "2023-09-23T16:12:29.173655012Z",
     "start_time": "2023-09-23T16:12:29.137916212Z"
    }
   },
   "id": "2760e7ed182f7418"
  },
  {
   "cell_type": "code",
   "execution_count": 24,
   "outputs": [],
   "source": [
    "x1 = [0.0032032032032032033]"
   ],
   "metadata": {
    "collapsed": false,
    "ExecuteTime": {
     "end_time": "2023-09-23T16:12:30.072682430Z",
     "start_time": "2023-09-23T16:12:30.031928572Z"
    }
   },
   "id": "f00425433f794959"
  },
  {
   "cell_type": "code",
   "execution_count": 25,
   "outputs": [
    {
     "data": {
      "text/plain": "[0.4204453968168168]"
     },
     "execution_count": 25,
     "metadata": {},
     "output_type": "execute_result"
    }
   ],
   "source": [
    "# primera capa - Linear 1 neurona\n",
    "Z1 = [_linear(_z_fun(x1, W[0][0], B[0][0]))]\n",
    "Z1"
   ],
   "metadata": {
    "collapsed": false,
    "ExecuteTime": {
     "end_time": "2023-09-23T16:12:30.527252532Z",
     "start_time": "2023-09-23T16:12:30.496787382Z"
    }
   },
   "id": "ae1916502c3eb2ac"
  },
  {
   "cell_type": "code",
   "execution_count": 26,
   "outputs": [
    {
     "data": {
      "text/plain": "[0.8837968965507677, 0.5454171233168161, 0.0930482920203529]"
     },
     "execution_count": 26,
     "metadata": {},
     "output_type": "execute_result"
    }
   ],
   "source": [
    "# segunda capa - RELU - 3 neuronas\n",
    "Z2 = []\n",
    "for n in range(len(W[1])):\n",
    "    Z2.append(_relu(_z_fun(Z1, W[1][n], B[1][n])))\n",
    "    \n",
    "Z2"
   ],
   "metadata": {
    "collapsed": false,
    "ExecuteTime": {
     "end_time": "2023-09-23T16:12:31.269370061Z",
     "start_time": "2023-09-23T16:12:31.197924742Z"
    }
   },
   "id": "42284962b901634b"
  },
  {
   "cell_type": "code",
   "execution_count": 27,
   "outputs": [
    {
     "data": {
      "text/plain": "[0.33522031883681325, 0.35976943575857573]"
     },
     "execution_count": 27,
     "metadata": {},
     "output_type": "execute_result"
    }
   ],
   "source": [
    "# tercer capa - RELU - 2 neuronas\n",
    "Z3 = []\n",
    "for n in range(len(W[2])):\n",
    "    Z3.append(_relu(_z_fun(Z2, W[2][n], B[2][n])))\n",
    "Z3"
   ],
   "metadata": {
    "collapsed": false,
    "ExecuteTime": {
     "end_time": "2023-09-23T16:12:32.235417961Z",
     "start_time": "2023-09-23T16:12:32.169299044Z"
    }
   },
   "id": "e97225037158362f"
  },
  {
   "cell_type": "code",
   "execution_count": 28,
   "outputs": [
    {
     "data": {
      "text/plain": "[0.04240943375604779]"
     },
     "execution_count": 28,
     "metadata": {},
     "output_type": "execute_result"
    }
   ],
   "source": [
    "# cuarta capa - LINEAR - 1 neurona\n",
    "Z4 = []\n",
    "\n",
    "for n in range(len(W[3])):\n",
    "    Z4.append(_linear(_z_fun(Z3, W[3][n], B[3][n])))\n",
    "Z4"
   ],
   "metadata": {
    "collapsed": false,
    "ExecuteTime": {
     "end_time": "2023-09-23T16:12:33.285596945Z",
     "start_time": "2023-09-23T16:12:33.171872338Z"
    }
   },
   "id": "f962e062453cd2da"
  },
  {
   "cell_type": "code",
   "execution_count": null,
   "outputs": [],
   "source": [],
   "metadata": {
    "collapsed": false
   },
   "id": "1cf6739b354d816a"
  }
 ],
 "metadata": {
  "kernelspec": {
   "display_name": "Python 3",
   "language": "python",
   "name": "python3"
  },
  "language_info": {
   "codemirror_mode": {
    "name": "ipython",
    "version": 2
   },
   "file_extension": ".py",
   "mimetype": "text/x-python",
   "name": "python",
   "nbconvert_exporter": "python",
   "pygments_lexer": "ipython2",
   "version": "2.7.6"
  }
 },
 "nbformat": 4,
 "nbformat_minor": 5
}
