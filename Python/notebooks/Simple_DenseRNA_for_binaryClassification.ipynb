{
 "cells": [
  {
   "cell_type": "code",
   "execution_count": 1,
   "outputs": [
    {
     "name": "stderr",
     "output_type": "stream",
     "text": [
      "2023-09-09 11:47:03.567369: I tensorflow/core/platform/cpu_feature_guard.cc:182] This TensorFlow binary is optimized to use available CPU instructions in performance-critical operations.\n",
      "To enable the following instructions: FMA, in other operations, rebuild TensorFlow with the appropriate compiler flags.\n"
     ]
    }
   ],
   "source": [
    "import tensorflow as tf\n",
    "from tensorflow import keras as K\n",
    "from tensorflow.keras import layers"
   ],
   "metadata": {
    "collapsed": false,
    "ExecuteTime": {
     "end_time": "2023-09-09T17:47:08.030353594Z",
     "start_time": "2023-09-09T17:47:02.297288288Z"
    }
   },
   "id": "6e88a88cedfba66e"
  },
  {
   "cell_type": "code",
   "execution_count": 2,
   "outputs": [],
   "source": [
    "# definimos un modelo secuencial\n",
    "\n",
    "from tensorflow.keras.optimizers import SGD\n",
    "\n",
    "sgd = SGD(0.01)\n",
    "\n",
    "model = K.Sequential(\n",
    "    [\n",
    "        layers.Dense(2, input_shape=(2,), activation='relu', name='dense1'),\n",
    "        layers.Dense(1, activation='sigmoid', name='dense2')\n",
    "    ]\n",
    ")\n",
    "\n",
    "model.compile(loss='binary_crossentropy', optimizer='adam', metrics=['accuracy'])"
   ],
   "metadata": {
    "collapsed": false,
    "ExecuteTime": {
     "end_time": "2023-09-09T17:47:08.276526181Z",
     "start_time": "2023-09-09T17:47:08.046323741Z"
    }
   },
   "id": "519dc5654538ed86"
  },
  {
   "cell_type": "code",
   "execution_count": 3,
   "outputs": [
    {
     "name": "stdout",
     "output_type": "stream",
     "text": [
      "Model: \"sequential\"\n",
      "_________________________________________________________________\n",
      " Layer (type)                Output Shape              Param #   \n",
      "=================================================================\n",
      " dense1 (Dense)              (None, 2)                 6         \n",
      "                                                                 \n",
      " dense2 (Dense)              (None, 1)                 3         \n",
      "                                                                 \n",
      "=================================================================\n",
      "Total params: 9 (36.00 Byte)\n",
      "Trainable params: 9 (36.00 Byte)\n",
      "Non-trainable params: 0 (0.00 Byte)\n",
      "_________________________________________________________________\n"
     ]
    }
   ],
   "source": [
    "model.summary()"
   ],
   "metadata": {
    "collapsed": false,
    "ExecuteTime": {
     "end_time": "2023-09-09T17:47:08.479597044Z",
     "start_time": "2023-09-09T17:47:08.281705024Z"
    }
   },
   "id": "b9baa57bb536bca"
  },
  {
   "cell_type": "code",
   "execution_count": 4,
   "outputs": [
    {
     "data": {
      "text/plain": "   Feature_1  Feature_2  Output\n0   2.343876  -2.925000       1\n1   3.899890  -2.933112       1\n2   2.905043  -2.700764       1\n3   2.703007  -3.003042       1\n4   2.503735  -3.004376       1",
      "text/html": "<div>\n<style scoped>\n    .dataframe tbody tr th:only-of-type {\n        vertical-align: middle;\n    }\n\n    .dataframe tbody tr th {\n        vertical-align: top;\n    }\n\n    .dataframe thead th {\n        text-align: right;\n    }\n</style>\n<table border=\"1\" class=\"dataframe\">\n  <thead>\n    <tr style=\"text-align: right;\">\n      <th></th>\n      <th>Feature_1</th>\n      <th>Feature_2</th>\n      <th>Output</th>\n    </tr>\n  </thead>\n  <tbody>\n    <tr>\n      <th>0</th>\n      <td>2.343876</td>\n      <td>-2.925000</td>\n      <td>1</td>\n    </tr>\n    <tr>\n      <th>1</th>\n      <td>3.899890</td>\n      <td>-2.933112</td>\n      <td>1</td>\n    </tr>\n    <tr>\n      <th>2</th>\n      <td>2.905043</td>\n      <td>-2.700764</td>\n      <td>1</td>\n    </tr>\n    <tr>\n      <th>3</th>\n      <td>2.703007</td>\n      <td>-3.003042</td>\n      <td>1</td>\n    </tr>\n    <tr>\n      <th>4</th>\n      <td>2.503735</td>\n      <td>-3.004376</td>\n      <td>1</td>\n    </tr>\n  </tbody>\n</table>\n</div>"
     },
     "execution_count": 4,
     "metadata": {},
     "output_type": "execute_result"
    }
   ],
   "source": [
    "import pandas as pd\n",
    "\n",
    "data = pd.read_csv('../data/datasets/simple_binary.csv')\n",
    "\n",
    "data.head()"
   ],
   "metadata": {
    "collapsed": false,
    "ExecuteTime": {
     "end_time": "2023-09-09T17:47:08.481848050Z",
     "start_time": "2023-09-09T17:47:08.368552948Z"
    }
   },
   "id": "a1df7ca388142368"
  },
  {
   "cell_type": "code",
   "execution_count": 5,
   "outputs": [],
   "source": [
    "y = data.pop('Output')"
   ],
   "metadata": {
    "collapsed": false,
    "ExecuteTime": {
     "end_time": "2023-09-09T17:47:08.534283556Z",
     "start_time": "2023-09-09T17:47:08.416384791Z"
    }
   },
   "id": "9681d3cb91d08b83"
  },
  {
   "cell_type": "code",
   "execution_count": 6,
   "outputs": [
    {
     "data": {
      "text/plain": "0      1\n1      1\n2      1\n3      1\n4      1\n      ..\n494    1\n495    0\n496    0\n497    1\n498    1\nName: Output, Length: 499, dtype: int64"
     },
     "execution_count": 6,
     "metadata": {},
     "output_type": "execute_result"
    }
   ],
   "source": [
    "y"
   ],
   "metadata": {
    "collapsed": false,
    "ExecuteTime": {
     "end_time": "2023-09-09T17:47:08.535688523Z",
     "start_time": "2023-09-09T17:47:08.416673163Z"
    }
   },
   "id": "fcbfd14cc488e02e"
  },
  {
   "cell_type": "code",
   "execution_count": 7,
   "outputs": [],
   "source": [
    "tf_dataset = tf.data.Dataset.from_tensor_slices((data.values, y.values))"
   ],
   "metadata": {
    "collapsed": false,
    "ExecuteTime": {
     "end_time": "2023-09-09T17:47:08.537675216Z",
     "start_time": "2023-09-09T17:47:08.416820088Z"
    }
   },
   "id": "94adba1f0d8c8477"
  },
  {
   "cell_type": "code",
   "execution_count": 8,
   "outputs": [
    {
     "name": "stdout",
     "output_type": "stream",
     "text": [
      "Features: [ 2.34387608 -2.92500003], Target: 1\n",
      "Features: [ 3.89989038 -2.93311163], Target: 1\n",
      "Features: [ 2.90504265 -2.70076436], Target: 1\n",
      "Features: [ 2.70300704 -3.00304232], Target: 1\n",
      "Features: [ 2.50373548 -3.00437636], Target: 1\n"
     ]
    }
   ],
   "source": [
    "for features, targets in tf_dataset.take(5):\n",
    "    print('Features: {}, Target: {}'.format(features, targets))"
   ],
   "metadata": {
    "collapsed": false,
    "ExecuteTime": {
     "end_time": "2023-09-09T17:47:08.538472327Z",
     "start_time": "2023-09-09T17:47:08.460474888Z"
    }
   },
   "id": "ced9f8f97aabba9"
  },
  {
   "cell_type": "code",
   "execution_count": 9,
   "outputs": [],
   "source": [
    "batch_size = 16\n",
    "dataset = tf_dataset.batch(batch_size)\n",
    "dataset = dataset.shuffle(buffer_size=len(data))\n",
    "train_dataset = dataset.take(int(len(data) * 0.7))\n",
    "test_dataset = dataset.skip(int(len(data)*0.7))"
   ],
   "metadata": {
    "collapsed": false,
    "ExecuteTime": {
     "end_time": "2023-09-09T17:47:08.837155132Z",
     "start_time": "2023-09-09T17:47:08.473592699Z"
    }
   },
   "id": "3f1794ca1073969b"
  },
  {
   "cell_type": "code",
   "execution_count": 10,
   "outputs": [
    {
     "name": "stdout",
     "output_type": "stream",
     "text": [
      "Epoch 1/50\n",
      "32/32 [==============================] - 3s 8ms/step - loss: 0.6517 - accuracy: 0.4529\n",
      "Epoch 2/50\n",
      "32/32 [==============================] - 0s 6ms/step - loss: 0.6161 - accuracy: 0.4770\n",
      "Epoch 3/50\n",
      "32/32 [==============================] - 0s 7ms/step - loss: 0.5803 - accuracy: 0.5170\n",
      "Epoch 4/50\n",
      "32/32 [==============================] - 0s 6ms/step - loss: 0.5460 - accuracy: 0.5792\n",
      "Epoch 5/50\n",
      "32/32 [==============================] - 0s 7ms/step - loss: 0.5124 - accuracy: 0.6493\n",
      "Epoch 6/50\n",
      "32/32 [==============================] - 0s 7ms/step - loss: 0.4788 - accuracy: 0.7415\n",
      "Epoch 7/50\n",
      "32/32 [==============================] - 0s 8ms/step - loss: 0.4473 - accuracy: 0.8477\n",
      "Epoch 8/50\n",
      "32/32 [==============================] - 0s 8ms/step - loss: 0.4180 - accuracy: 0.9178\n",
      "Epoch 9/50\n",
      "32/32 [==============================] - 0s 6ms/step - loss: 0.3950 - accuracy: 0.9579\n",
      "Epoch 10/50\n",
      "32/32 [==============================] - 0s 6ms/step - loss: 0.3755 - accuracy: 0.9800\n",
      "Epoch 11/50\n",
      "32/32 [==============================] - 0s 6ms/step - loss: 0.3586 - accuracy: 0.9920\n",
      "Epoch 12/50\n",
      "32/32 [==============================] - 0s 5ms/step - loss: 0.3431 - accuracy: 0.9960\n",
      "Epoch 13/50\n",
      "32/32 [==============================] - 0s 4ms/step - loss: 0.3293 - accuracy: 0.9960\n",
      "Epoch 14/50\n",
      "32/32 [==============================] - 0s 4ms/step - loss: 0.3167 - accuracy: 0.9980\n",
      "Epoch 15/50\n",
      "32/32 [==============================] - 0s 4ms/step - loss: 0.3049 - accuracy: 0.9980\n",
      "Epoch 16/50\n",
      "32/32 [==============================] - 0s 4ms/step - loss: 0.2937 - accuracy: 1.0000\n",
      "Epoch 17/50\n",
      "32/32 [==============================] - 0s 4ms/step - loss: 0.2836 - accuracy: 1.0000\n",
      "Epoch 18/50\n",
      "32/32 [==============================] - 0s 5ms/step - loss: 0.2739 - accuracy: 1.0000\n",
      "Epoch 19/50\n",
      "32/32 [==============================] - 0s 6ms/step - loss: 0.2651 - accuracy: 1.0000\n",
      "Epoch 20/50\n",
      "32/32 [==============================] - 0s 5ms/step - loss: 0.2566 - accuracy: 1.0000\n",
      "Epoch 21/50\n",
      "32/32 [==============================] - 0s 5ms/step - loss: 0.2488 - accuracy: 1.0000\n",
      "Epoch 22/50\n",
      "32/32 [==============================] - 0s 4ms/step - loss: 0.2412 - accuracy: 1.0000\n",
      "Epoch 23/50\n",
      "32/32 [==============================] - 0s 5ms/step - loss: 0.2341 - accuracy: 1.0000\n",
      "Epoch 24/50\n",
      "32/32 [==============================] - 0s 4ms/step - loss: 0.2273 - accuracy: 1.0000\n",
      "Epoch 25/50\n",
      "32/32 [==============================] - 0s 4ms/step - loss: 0.2208 - accuracy: 1.0000\n",
      "Epoch 26/50\n",
      "32/32 [==============================] - 0s 4ms/step - loss: 0.2146 - accuracy: 1.0000\n",
      "Epoch 27/50\n",
      "32/32 [==============================] - 0s 5ms/step - loss: 0.2088 - accuracy: 1.0000\n",
      "Epoch 28/50\n",
      "32/32 [==============================] - 0s 5ms/step - loss: 0.2030 - accuracy: 1.0000\n",
      "Epoch 29/50\n",
      "32/32 [==============================] - 0s 4ms/step - loss: 0.1977 - accuracy: 1.0000\n",
      "Epoch 30/50\n",
      "32/32 [==============================] - 0s 4ms/step - loss: 0.1925 - accuracy: 1.0000\n",
      "Epoch 31/50\n",
      "32/32 [==============================] - 0s 4ms/step - loss: 0.1875 - accuracy: 1.0000\n",
      "Epoch 32/50\n",
      "32/32 [==============================] - 0s 4ms/step - loss: 0.1827 - accuracy: 1.0000\n",
      "Epoch 33/50\n",
      "32/32 [==============================] - 0s 5ms/step - loss: 0.1781 - accuracy: 1.0000\n",
      "Epoch 34/50\n",
      "32/32 [==============================] - 0s 4ms/step - loss: 0.1737 - accuracy: 1.0000\n",
      "Epoch 35/50\n",
      "32/32 [==============================] - 0s 5ms/step - loss: 0.1694 - accuracy: 1.0000\n",
      "Epoch 36/50\n",
      "32/32 [==============================] - 0s 5ms/step - loss: 0.1653 - accuracy: 1.0000\n",
      "Epoch 37/50\n",
      "32/32 [==============================] - 0s 5ms/step - loss: 0.1613 - accuracy: 1.0000\n",
      "Epoch 38/50\n",
      "32/32 [==============================] - 0s 4ms/step - loss: 0.1574 - accuracy: 1.0000\n",
      "Epoch 39/50\n",
      "32/32 [==============================] - 0s 7ms/step - loss: 0.1537 - accuracy: 1.0000\n",
      "Epoch 40/50\n",
      "32/32 [==============================] - 0s 4ms/step - loss: 0.1502 - accuracy: 1.0000\n",
      "Epoch 41/50\n",
      "32/32 [==============================] - 0s 4ms/step - loss: 0.1467 - accuracy: 1.0000\n",
      "Epoch 42/50\n",
      "32/32 [==============================] - 0s 5ms/step - loss: 0.1433 - accuracy: 1.0000\n",
      "Epoch 43/50\n",
      "32/32 [==============================] - 0s 5ms/step - loss: 0.1400 - accuracy: 1.0000\n",
      "Epoch 44/50\n",
      "32/32 [==============================] - 0s 4ms/step - loss: 0.1369 - accuracy: 1.0000\n",
      "Epoch 45/50\n",
      "32/32 [==============================] - 0s 5ms/step - loss: 0.1338 - accuracy: 1.0000\n",
      "Epoch 46/50\n",
      "32/32 [==============================] - 0s 5ms/step - loss: 0.1309 - accuracy: 1.0000\n",
      "Epoch 47/50\n",
      "32/32 [==============================] - 0s 5ms/step - loss: 0.1280 - accuracy: 1.0000\n",
      "Epoch 48/50\n",
      "32/32 [==============================] - 0s 5ms/step - loss: 0.1252 - accuracy: 1.0000\n",
      "Epoch 49/50\n",
      "32/32 [==============================] - 0s 5ms/step - loss: 0.1225 - accuracy: 1.0000\n",
      "Epoch 50/50\n",
      "32/32 [==============================] - 0s 6ms/step - loss: 0.1199 - accuracy: 1.0000\n"
     ]
    }
   ],
   "source": [
    "history = model.fit(train_dataset, epochs=50)"
   ],
   "metadata": {
    "collapsed": false,
    "ExecuteTime": {
     "end_time": "2023-09-09T17:47:22.489696764Z",
     "start_time": "2023-09-09T17:47:08.564348801Z"
    }
   },
   "id": "4644bb3135bff49"
  },
  {
   "cell_type": "code",
   "execution_count": 12,
   "outputs": [
    {
     "name": "stdout",
     "output_type": "stream",
     "text": [
      "1/1 [==============================] - 0s 285ms/step\n"
     ]
    },
    {
     "data": {
      "text/plain": "array([[0.7975878 ],\n       [0.7975878 ],\n       [0.7404339 ],\n       [0.01083415],\n       [0.00869661],\n       [0.01488256]], dtype=float32)"
     },
     "execution_count": 12,
     "metadata": {},
     "output_type": "execute_result"
    }
   ],
   "source": [
    "# evaluate the network\n",
    "model.predict([\n",
    "    [2.7030070442541745,-3.003042320746851],\n",
    "    [2.5037354760912955,-3.0043763630080838],\n",
    "    [5.210247695170851,-3.6166396693348912],\n",
    "    [3.684823874500105,2.36230835847513],\n",
    "    [2.009693169089723,3.7860940191103807],\n",
    "    [4.604840132743344,1.405890402381907]\n",
    "])"
   ],
   "metadata": {
    "collapsed": false,
    "ExecuteTime": {
     "end_time": "2023-09-09T17:47:40.452632310Z",
     "start_time": "2023-09-09T17:47:39.874279679Z"
    }
   },
   "id": "1a260642b50b7ed9"
  },
  {
   "cell_type": "code",
   "execution_count": 20,
   "outputs": [
    {
     "name": "stdout",
     "output_type": "stream",
     "text": [
      "dense1 <keras.src.layers.core.dense.Dense object at 0x7fc5a16d6560>\n",
      "[<tf.Variable 'dense1/kernel:0' shape=(2, 2) dtype=float32, numpy=\n",
      "array([[-1.3566418,  0.8290571],\n",
      "       [ 0.5052472,  1.1291589]], dtype=float32)>, <tf.Variable 'dense1/bias:0' shape=(2,) dtype=float32, numpy=array([-0.24589023,  0.08282296], dtype=float32)>]\n",
      "dense2 <keras.src.layers.core.dense.Dense object at 0x7fc5a16d7700>\n",
      "[<tf.Variable 'dense2/kernel:0' shape=(2, 1) dtype=float32, numpy=\n",
      "array([[ 0.5337429],\n",
      "       [-1.0138276]], dtype=float32)>, <tf.Variable 'dense2/bias:0' shape=(1,) dtype=float32, numpy=array([1.3712858], dtype=float32)>]\n"
     ]
    }
   ],
   "source": [
    "for i, layer in enumerate(model.layers):\n",
    "    print(layer.name, layer)\n",
    "    print(model.layers[i].weights)"
   ],
   "metadata": {
    "collapsed": false,
    "ExecuteTime": {
     "end_time": "2023-09-09T17:53:45.655061074Z",
     "start_time": "2023-09-09T17:53:45.608458315Z"
    }
   },
   "id": "c33ea78c6028db78"
  },
  {
   "cell_type": "code",
   "execution_count": 14,
   "outputs": [
    {
     "name": "stdout",
     "output_type": "stream",
     "text": [
      "[<tf.Variable 'dense1/kernel:0' shape=(2, 2) dtype=float32, numpy=\n",
      "array([[-1.3566418,  0.8290571],\n",
      "       [ 0.5052472,  1.1291589]], dtype=float32)>, <tf.Variable 'dense1/bias:0' shape=(2,) dtype=float32, numpy=array([-0.24589023,  0.08282296], dtype=float32)>]\n",
      "[-0.24589023  0.08282296]\n",
      "<keras.src.initializers.initializers.Zeros object at 0x7fc5a16d7970>\n"
     ]
    }
   ],
   "source": [
    "print(model.layers[0].weights)\n",
    "print(model.layers[0].bias.numpy())\n",
    "print(model.layers[0].bias_initializer)"
   ],
   "metadata": {
    "collapsed": false,
    "ExecuteTime": {
     "end_time": "2023-09-09T17:50:18.981864135Z",
     "start_time": "2023-09-09T17:50:18.890779592Z"
    }
   },
   "id": "7fde28eba4310526"
  },
  {
   "cell_type": "code",
   "execution_count": null,
   "outputs": [],
   "source": [],
   "metadata": {
    "collapsed": false
   },
   "id": "949cadef03ebae0d"
  }
 ],
 "metadata": {
  "kernelspec": {
   "display_name": "Python 3",
   "language": "python",
   "name": "python3"
  },
  "language_info": {
   "codemirror_mode": {
    "name": "ipython",
    "version": 2
   },
   "file_extension": ".py",
   "mimetype": "text/x-python",
   "name": "python",
   "nbconvert_exporter": "python",
   "pygments_lexer": "ipython2",
   "version": "2.7.6"
  }
 },
 "nbformat": 4,
 "nbformat_minor": 5
}
